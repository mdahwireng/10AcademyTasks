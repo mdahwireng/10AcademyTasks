{
 "cells": [
  {
   "cell_type": "markdown",
   "id": "b7d0cdd9",
   "metadata": {},
   "source": [
    "Load the needed libraries"
   ]
  },
  {
   "cell_type": "code",
   "execution_count": 1,
   "id": "baef4cd2",
   "metadata": {},
   "outputs": [],
   "source": [
    "import warnings\n",
    "warnings.filterwarnings('ignore')     # This prevents displays of warnings which can be a distruction to viewing outputs\n",
    "import matplotlib.pyplot as plt\n",
    "import seaborn as sns\n",
    "from wordcloud import STOPWORDS,WordCloud\n",
    "from gensim import corpora\n",
    "from gensim.models import ldamodel, CoherenceModel\n",
    "from gensim.parsing.preprocessing import remove_stopwords\n",
    "from gensim import utils\n",
    "import pyLDAvis.gensim_models as gensimvis\n",
    "import pickle \n",
    "import pyLDAvis\n",
    "import pandas as pd\n",
    "import statistics\n",
    "import string\n",
    "import os\n",
    "import re\n",
    "import json\n",
    "from textblob import TextBlob\n",
    "import emoji\n",
    "from sklearn.feature_extraction.text import CountVectorizer, TfidfTransformer\n",
    "from sklearn.linear_model import SGDClassifier\n",
    "from sklearn.model_selection import train_test_split\n",
    "from sklearn.model_selection import RandomizedSearchCV\n",
    "from scipy.stats import uniform"
   ]
  },
  {
   "cell_type": "markdown",
   "id": "db7247eb",
   "metadata": {},
   "source": [
    "## Exploratory Data Analysis"
   ]
  },
  {
   "cell_type": "markdown",
   "id": "a78f134a",
   "metadata": {},
   "source": [
    "The data was downloaded from twitter and saved as a json file"
   ]
  },
  {
   "cell_type": "markdown",
   "id": "98280b15",
   "metadata": {},
   "source": [
    "Creating a function to read and load the data form the json file"
   ]
  },
  {
   "cell_type": "code",
   "execution_count": 2,
   "id": "ce43d8d7",
   "metadata": {},
   "outputs": [
    {
     "name": "stderr",
     "output_type": "stream",
     "text": [
      "C:\\ProgramData\\Anaconda3\\lib\\site-packages\\ipykernel\\ipkernel.py:287: DeprecationWarning: `should_run_async` will not call `transform_cell` automatically in the future. Please pass the result to `transformed_cell` argument and any exception that happen during thetransform in `preprocessing_exc_tuple` in IPython 7.17 and above.\n",
      "  and should_run_async(code)\n"
     ]
    }
   ],
   "source": [
    "def read_json(json_file: str)->list:\n",
    "    \"\"\"\n",
    "    json file reader to open and read json files into a list\n",
    "    Args:\n",
    "    -----\n",
    "    json_file: str - path of a json file\n",
    "    \n",
    "    Returns\n",
    "    -------\n",
    "    length of the json file and a list of json\n",
    "    \"\"\"\n",
    "    \n",
    "    tweets_data = []\n",
    "    for tweets in open(json_file,'r'):\n",
    "        tweets_data.append(json.loads(tweets))\n",
    "    \n",
    "    \n",
    "    return len(tweets_data), tweets_data"
   ]
  },
  {
   "cell_type": "markdown",
   "id": "27563362",
   "metadata": {},
   "source": [
    "Reading and loading the data with <b>read_json()</b> function"
   ]
  },
  {
   "cell_type": "code",
   "execution_count": 3,
   "id": "89e4df74",
   "metadata": {},
   "outputs": [
    {
     "name": "stderr",
     "output_type": "stream",
     "text": [
      "C:\\ProgramData\\Anaconda3\\lib\\site-packages\\ipykernel\\ipkernel.py:287: DeprecationWarning: `should_run_async` will not call `transform_cell` automatically in the future. Please pass the result to `transformed_cell` argument and any exception that happen during thetransform in `preprocessing_exc_tuple` in IPython 7.17 and above.\n",
      "  and should_run_async(code)\n"
     ]
    }
   ],
   "source": [
    "data_source = \"./data/covid19.json\"\n",
    "\n",
    "# reading the data and putting the total number of entries (tweet_len) and data (tweet_list) in variables\n",
    "tweet_len, tweet_list = read_json(data_source)"
   ]
  },
  {
   "cell_type": "markdown",
   "id": "51827258",
   "metadata": {},
   "source": [
    "Creating a class and methods to extract the tweets and create a pandas dataframe from them"
   ]
  },
  {
   "cell_type": "code",
   "execution_count": 4,
   "id": "31b071a3",
   "metadata": {},
   "outputs": [
    {
     "name": "stderr",
     "output_type": "stream",
     "text": [
      "C:\\ProgramData\\Anaconda3\\lib\\site-packages\\ipykernel\\ipkernel.py:287: DeprecationWarning: `should_run_async` will not call `transform_cell` automatically in the future. Please pass the result to `transformed_cell` argument and any exception that happen during thetransform in `preprocessing_exc_tuple` in IPython 7.17 and above.\n",
      "  and should_run_async(code)\n"
     ]
    }
   ],
   "source": [
    "class TweetDfExtractor:\n",
    "    \"\"\"\n",
    "    this function will parse tweets json into a pandas dataframe\n",
    "    \n",
    "    Return\n",
    "    ------\n",
    "    dataframe\n",
    "    \"\"\"\n",
    "    def __init__(self, tweets_list):\n",
    "        \n",
    "        self.tweets_list = tweets_list\n",
    "\n",
    "    # an example function\n",
    "    def find_statuses_count(self)->list:\n",
    "        statuses_count = [i['user']['statuses_count'] for i in self.tweets_list]\n",
    "        return statuses_count \n",
    "        \n",
    "    def find_full_text(self)->list:\n",
    "        text = []\n",
    "        for i in self.tweets_list:\n",
    "            if 'retweeted_status' in i.keys():\n",
    "                if 'extended_tweet' in i['retweeted_status'].keys():\n",
    "                    text.append(i['retweeted_status']['extended_tweet']['full_text'])\n",
    "                else:\n",
    "                    text.append(i['text'])\n",
    "            else:\n",
    "                if 'extended_tweet' in i.keys():\n",
    "                    text.append(i['extended_tweet']['full_text'])\n",
    "                else:\n",
    "                    text.append(i['text'])\n",
    "        return text\n",
    "       \n",
    "    \n",
    "    def find_sentiments(self, text)->list:\n",
    "        polarity = [TextBlob(i).polarity for i in text]\n",
    "        self.subjectivity = [TextBlob(i).subjectivity for i in text]\n",
    "        return polarity, self.subjectivity\n",
    "\n",
    "    def find_created_time(self)->list:\n",
    "        created_at = [i['created_at'] for i in self.tweets_list]\n",
    "        return created_at\n",
    "\n",
    "    def find_source(self)->list:\n",
    "        source = [i['source'] for i in self.tweets_list]\n",
    "        return source\n",
    "\n",
    "    def find_screen_name(self)->list:\n",
    "        screen_name =[i['user']['screen_name'] for i in self.tweets_list]\n",
    "        return screen_name\n",
    "\n",
    "    def find_followers_count(self)->list:\n",
    "        followers_count = [i['user']['followers_count'] for i in self.tweets_list]\n",
    "        return followers_count\n",
    "\n",
    "    def find_friends_count(self)->list:\n",
    "        friends_count = [i['user']['friends_count'] for i in self.tweets_list]\n",
    "        return friends_count\n",
    "\n",
    "    def is_sensitive(self)->list:\n",
    "        is_sensitive = []\n",
    "        for i in self.tweets_list:\n",
    "            try:\n",
    "                is_sensitive.append(i['possibly_sensitive'])\n",
    "            except KeyError:\n",
    "                is_sensitive.append(None)\n",
    "        return is_sensitive\n",
    "\n",
    "    def find_favourite_count(self)->list:\n",
    "        favorite_count = []\n",
    "        for i in self.tweets_list:\n",
    "            if 'retweeted_status' in i.keys():\n",
    "                favorite_count.append(i['retweeted_status']['favorite_count'])\n",
    "            else:\n",
    "                favorite_count.append(i['favorite_count'])\n",
    "        return favorite_count\n",
    "    \n",
    "    def find_retweet_count(self)->list:\n",
    "        retweet_count = []\n",
    "        for i in self.tweets_list:\n",
    "            if 'retweeted_status' in i.keys():\n",
    "                retweet_count.append(i['retweeted_status']['retweet_count'])\n",
    "            else:\n",
    "                retweet_count.append(i['retweet_count'])\n",
    "        return retweet_count\n",
    "\n",
    "    def find_hashtags(self)->list:\n",
    "        hashtags = [i['entities']['hashtags'] for i in self.tweets_list]\n",
    "        return hashtags\n",
    "\n",
    "    def find_mentions(self)->list:\n",
    "        mentions = [i['entities']['user_mentions'] for i in self.tweets_list]\n",
    "        return mentions\n",
    "\n",
    "    def find_location(self)->list:\n",
    "        try:\n",
    "            location = [i['user']['location'] for i in self.tweets_list]\n",
    "        except TypeError:\n",
    "            location = ''\n",
    "        \n",
    "        return location\n",
    "\n",
    "    def find_lang(self)->list:\n",
    "        lang = [i['lang'] for i in self.tweets_list]\n",
    "        return lang\n",
    "    \n",
    "            \n",
    "    def get_tweet_df(self, save=False)->pd.DataFrame:\n",
    "        \n",
    "        columns = ['created_at', 'source', 'original_text','polarity','subjectivity', 'lang', 'favorite_count', 'retweet_count', \n",
    "            'original_author', 'followers_count','friends_count','possibly_sensitive', 'hashtags', 'user_mentions', 'place']\n",
    "        \n",
    "        created_at = self.find_created_time()\n",
    "        source = self.find_source()\n",
    "        text = self.find_full_text()\n",
    "        polarity, subjectivity = self.find_sentiments(text)\n",
    "        lang = self.find_lang()\n",
    "        fav_count = self.find_favourite_count()\n",
    "        retweet_count = self.find_retweet_count()\n",
    "        screen_name = self.find_screen_name()\n",
    "        follower_count = self.find_followers_count()\n",
    "        friends_count = self.find_friends_count()\n",
    "        sensitivity = self.is_sensitive()\n",
    "        hashtags = self.find_hashtags()\n",
    "        mentions = self.find_mentions()\n",
    "        location = self.find_location()\n",
    "        data = zip(created_at, source, text, polarity, subjectivity, lang, fav_count, retweet_count, screen_name, follower_count, friends_count, sensitivity, hashtags, mentions, location)\n",
    "        df = pd.DataFrame(data=data, columns=columns)\n",
    "\n",
    "        if save:\n",
    "            df.to_csv('processed_tweet_data.csv', index=False)\n",
    "            print('File Successfully Saved.!!!')\n",
    "        \n",
    "        return df\n"
   ]
  },
  {
   "cell_type": "markdown",
   "id": "de4a69bb",
   "metadata": {},
   "source": [
    "Using the <b>TweetDfExtractor</b> class to create a pandas dataframe"
   ]
  },
  {
   "cell_type": "code",
   "execution_count": 5,
   "id": "f9221a35",
   "metadata": {},
   "outputs": [
    {
     "name": "stderr",
     "output_type": "stream",
     "text": [
      "C:\\ProgramData\\Anaconda3\\lib\\site-packages\\ipykernel\\ipkernel.py:287: DeprecationWarning: `should_run_async` will not call `transform_cell` automatically in the future. Please pass the result to `transformed_cell` argument and any exception that happen during thetransform in `preprocessing_exc_tuple` in IPython 7.17 and above.\n",
      "  and should_run_async(code)\n"
     ]
    }
   ],
   "source": [
    "tweet = TweetDfExtractor(tweet_list)    # creates an instance of TweetDfExtractor\n",
    "tweet_df = tweet.get_tweet_df()         # creates pandas dataframe using get_tweet_df method of TweetDfExtractor"
   ]
  },
  {
   "cell_type": "markdown",
   "id": "1724be58",
   "metadata": {},
   "source": [
    "Creating a class and methods to prepare data for visualization"
   ]
  },
  {
   "cell_type": "code",
   "execution_count": 6,
   "id": "327c8ab0",
   "metadata": {},
   "outputs": [
    {
     "name": "stderr",
     "output_type": "stream",
     "text": [
      "C:\\ProgramData\\Anaconda3\\lib\\site-packages\\ipykernel\\ipkernel.py:287: DeprecationWarning: `should_run_async` will not call `transform_cell` automatically in the future. Please pass the result to `transformed_cell` argument and any exception that happen during thetransform in `preprocessing_exc_tuple` in IPython 7.17 and above.\n",
      "  and should_run_async(code)\n"
     ]
    }
   ],
   "source": [
    "class TweetDfDataPreparation:\n",
    "    \"\"\"\n",
    "    this function will prepare tweets data form tweet dataframe for modelling and visualization\n",
    "    \n",
    "    Return\n",
    "    ------\n",
    "    dataframe\n",
    "    \"\"\"\n",
    "    def __init__(self, tweets_df):\n",
    "        \n",
    "        self.tweets_df = tweets_df\n",
    "        \n",
    "    def print_df_info(self) -> None:\n",
    "        \"\"\"\n",
    "        this function will print the info of the tweets datafame\n",
    "\n",
    "        Return\n",
    "        ------\n",
    "        None\n",
    "        \"\"\"\n",
    "        #save the number of columns and names\n",
    "        col_info = 'The number of colum(s): {}.\\nThe column(s) is/are : {} and {}'.format(len(self.tweets_df.columns),','.join(self.tweets_df.columns[:-2]), self.tweets_df.columns[-1])  \n",
    "        \n",
    "        #save the number of rows\n",
    "        num_rows = \"\\nThe total number of rows: {}\".format(len(self.tweets_df))\n",
    "        \n",
    "        #save the number of duplicate tweets\n",
    "        num_dup_tweets = '\\nThe number of duplicate tweets: {}'.format(len(self.tweets_df)-len(self.tweets_df.original_text.unique()))\n",
    "        \n",
    "        na_cols = self.tweets_df.columns[self.tweets_df.isnull().any()]\n",
    "        \n",
    "        #save the number of missing values\n",
    "        num_na_cols = \"\\nThe number of columns having missing value(s): {}\".format(len(na_cols))\n",
    "        \n",
    "        #save the columns with missing value and the num of values missing\n",
    "        na_cols_num_na = ''\n",
    "        \n",
    "        for col in na_cols:\n",
    "            na_cols_num_na += \"\\nThe number of rows with missing value(s) in [{}]: {}\".format(col, self.tweets_df[col].isnull().sum())\n",
    "        \n",
    "        # save the total number of missing values\n",
    "        tot_na = \"\\nThe total number of missing value(s): {}\".format(self.tweets_df.isnull().sum().sum())\n",
    "        \n",
    "        print(col_info, num_rows, num_dup_tweets, num_na_cols, na_cols_num_na, tot_na)\n",
    "        \n",
    "        \n",
    "    def slice_dataframe(self, columns=['created_at', 'original_text', 'polarity', 'subjectivity'],output=True)->pd.DataFrame:\n",
    "        \"\"\"\n",
    "        this function will slice of the tweets datafame. it takes a list of columns to slice and a bolean, output. \n",
    "        If its True it returns cleaned tweet\n",
    "\n",
    "        Return\n",
    "        ------\n",
    "        dataframe if output=True, None if output=False\n",
    "        \"\"\"\n",
    "        #sliced_tweet_df = self.tweets_df[columns]\n",
    "        self.sliced_tweet_df = self.tweets_df[columns]\n",
    "        if output:\n",
    "            return self.sliced_tweet_df\n",
    "        return None\n",
    "    \n",
    "    def drop_tweet_dup(self, column_name='original_text',output=True)->pd.DataFrame:\n",
    "        \"\"\"\n",
    "        this function will drop duplicates tweets in slicedtweet datafame. \n",
    "        it takes the name of column with the tweets in string format as an argument and \n",
    "        a bolean, output. If its True it returns cleaned tweet\n",
    "\n",
    "        Return\n",
    "        ------\n",
    "        dataframe if output=True, None if output=False\n",
    "        \"\"\"\n",
    "        sliced_tweet_df = self.sliced_tweet_df\n",
    "        sliced_tweet_df.drop_duplicates([column_name], inplace=True)\n",
    "        self.sliced_tweet_df = sliced_tweet_df\n",
    "        \n",
    "        if output:\n",
    "            return self.sliced_tweet_df\n",
    "        return None\n",
    "        \n",
    "        \n",
    "    def clean_tweet(self, column_name='original_text', cleaned_tweet_column_name='cleaned_tweet', output=True)->pd.DataFrame:\n",
    "        \"\"\"\n",
    "        this function will clean tweets in slicedtweet datafame. \n",
    "        it takes the name of column with the tweets and that of the new column for the cleaned tweet \n",
    "        both in string format as an argument and a bolean, output. If its True it returns cleaned tweet\n",
    "\n",
    "        Return\n",
    "        ------\n",
    "        dataframe if output=True, None if output=False\n",
    "        \"\"\"\n",
    "        unwanted = [\"'\\n',''\"]\n",
    "        take_out = ''\n",
    "        for char in unwanted:\n",
    "            take_out = string.punctuation + char \n",
    "        \n",
    "        def remove_punct_and_clean(tweet)->str:\n",
    "            # removes emojis\n",
    "            tweet = emoji.get_emoji_regexp().sub(r'', tweet)\n",
    "            # removes punctuations and newline characters\n",
    "            tweet  = \"\".join([char for char in tweet if char not in take_out])\n",
    "            # removes digits\n",
    "            tweet = re.sub('[0-9]+', '', tweet)\n",
    "            # converts to lowercase\n",
    "            tweet = tweet.lower()\n",
    "            return tweet\n",
    "        \n",
    "        sliced_tweet_df = self.sliced_tweet_df\n",
    "        sliced_tweet_df[cleaned_tweet_column_name] = sliced_tweet_df[column_name].apply(remove_punct_and_clean)\n",
    "        self.sliced_tweet_df = sliced_tweet_df\n",
    "        if output:\n",
    "            return self.sliced_tweet_df\n",
    "        return None\n",
    "        \n",
    "    def convert_to_datetime(self, column_name='created_at', output=True)->pd.DataFrame:\n",
    "        \"\"\"\n",
    "        this function will convert a parsed column in sliced tweet datafame to datetime. \n",
    "        it takes the name of column with the dates in string format as an argument and a bolean, output. \n",
    "        If its True it returns dataframe with the converted dates\n",
    "\n",
    "        Return\n",
    "        ------\n",
    "        dataframe if output=True, None if output=False\n",
    "        \"\"\"\n",
    "        sliced_tweet_df = self.sliced_tweet_df\n",
    "        sliced_tweet_df[column_name] = pd.to_datetime(sliced_tweet_df[column_name])\n",
    "        self.sliced_tweet_df = sliced_tweet_df\n",
    "\n",
    "        if output:\n",
    "            return self.sliced_tweet_df\n",
    "        return None\n",
    "    \n",
    "    def classify_polarity(self, column_name='polarity', cassified_column_name='classified_polarity', output=True)->pd.DataFrame:\n",
    "        \"\"\"\n",
    "        this function will classify a pared column in sliced tweet datafame with polarity. \n",
    "        it takes the name of column with the polarity and that of the new column for the classified polarityscores \n",
    "        both in string format as an argument and a bolean, output. If its True it returns a dataframe with the classified column added\n",
    "\n",
    "        Return\n",
    "        ------\n",
    "        dataframe if output=True, None if output=False\n",
    "        \"\"\"\n",
    "        \n",
    "        def classify(value)->str:\n",
    "            \"\"\"\n",
    "            this function will classify numbers. it takes the number be calssified as an argument\n",
    "            \n",
    "            Return\n",
    "            --------\n",
    "            string\n",
    "            \"\"\"\n",
    "            if value > 0.5:\n",
    "                return 'very positive'\n",
    "            elif value > 0:\n",
    "                return 'positive'\n",
    "            elif value < -0.5:\n",
    "                return 'very negative'\n",
    "            elif value < 0:\n",
    "                return 'negative'\n",
    "            else:\n",
    "                return 'neutral'\n",
    "            \n",
    "        sliced_tweet_df = self.sliced_tweet_df\n",
    "        sliced_tweet_df[cassified_column_name] = sliced_tweet_df[column_name].apply(classify)\n",
    "        self.sliced_tweet_df = sliced_tweet_df\n",
    "        if output:\n",
    "            return self.sliced_tweet_df\n",
    "        return None\n",
    "        \n",
    "        \n",
    "    def classify_subjectivity(self, column_name='subjectivity', cassified_column_name='classified_subjectivity', output=True)->pd.DataFrame:\n",
    "        \"\"\"\n",
    "        this function will classify a parsed column in sliced tweet datafame with subjectivity. \n",
    "        it takes the name of column with the polarity and that of the new column for the classified subjectivity scores \n",
    "        both in string format as an argument and a bolean, output. If its True it returns a dataframe with the classified column added\n",
    "\n",
    "        Return\n",
    "        ------\n",
    "        dataframe if output=True, None if output=False\n",
    "        \"\"\"\n",
    "\n",
    "        def classify(value)->str:\n",
    "            \"\"\"\n",
    "            this function will classify numbers. it takes the number be calssified as an argument\n",
    "\n",
    "            Return\n",
    "            --------\n",
    "            string\n",
    "            \"\"\"\n",
    "            if value > 0.7:\n",
    "                return 'very subjective'\n",
    "            elif value > 0.2:\n",
    "                return 'subjective'\n",
    "            else:\n",
    "                return 'factual'\n",
    "\n",
    "        sliced_tweet_df = self.sliced_tweet_df\n",
    "        sliced_tweet_df[cassified_column_name] = sliced_tweet_df[column_name].apply(classify)\n",
    "        self.sliced_tweet_df = sliced_tweet_df\n",
    "        if output:\n",
    "            return self.sliced_tweet_df\n",
    "        return None\n",
    "    \n",
    "    def create_data_for_model(self, column_list=['cleaned_tweet','polarity'], polarity_column='polarity', output=True)->pd.DataFrame:\n",
    "        \n",
    "        def classify(value)->int:\n",
    "            \"\"\"\n",
    "            this function will classify numbers. it takes the number be calssified as an argument\n",
    "\n",
    "            Return\n",
    "            --------\n",
    "            string\n",
    "            \"\"\"\n",
    "            if value > 0:\n",
    "                return 1\n",
    "            else:\n",
    "                return 0\n",
    "        x = self.sliced_tweet_df[column_list]\n",
    "        x = x[x[polarity_column] != 0].reset_index(drop=True)\n",
    "        x['label'] = x[polarity_column].apply(classify)\n",
    "        columns = list(x.columns)\n",
    "        columns.remove(polarity_column)\n",
    "        data_for_model = x[columns]\n",
    "        return data_for_model"
   ]
  },
  {
   "cell_type": "markdown",
   "id": "1f548cb1",
   "metadata": {},
   "source": [
    "Creating functions to implement and automate data processing"
   ]
  },
  {
   "cell_type": "code",
   "execution_count": 7,
   "id": "2a669867",
   "metadata": {},
   "outputs": [
    {
     "name": "stderr",
     "output_type": "stream",
     "text": [
      "C:\\ProgramData\\Anaconda3\\lib\\site-packages\\ipykernel\\ipkernel.py:287: DeprecationWarning: `should_run_async` will not call `transform_cell` automatically in the future. Please pass the result to `transformed_cell` argument and any exception that happen during thetransform in `preprocessing_exc_tuple` in IPython 7.17 and above.\n",
      "  and should_run_async(code)\n"
     ]
    }
   ],
   "source": [
    "def get_cleaned_tweet_and_data_for_model(uncleaned_tweet_df)->pd.DataFrame:\n",
    "    prep = TweetDfDataPreparation(uncleaned_tweet_df)\n",
    "    prep.slice_dataframe(output=False)\n",
    "    prep.drop_tweet_dup(output=False)\n",
    "    prep.convert_to_datetime(output=False)\n",
    "    prep.classify_polarity(output=False)\n",
    "    prep.classify_subjectivity(output=False)\n",
    "    cleaned = prep.clean_tweet()\n",
    "    data_for_model = prep.create_data_for_model()\n",
    "    return cleaned, data_for_model\n",
    "\n",
    "def get_df_info(df)->None:\n",
    "    prep = TweetDfDataPreparation(df)\n",
    "    prep.print_df_info()"
   ]
  },
  {
   "cell_type": "markdown",
   "id": "300c1248",
   "metadata": {},
   "source": [
    "Implementing data cleaning"
   ]
  },
  {
   "cell_type": "code",
   "execution_count": 8,
   "id": "39c1a695",
   "metadata": {
    "scrolled": true
   },
   "outputs": [
    {
     "name": "stderr",
     "output_type": "stream",
     "text": [
      "C:\\ProgramData\\Anaconda3\\lib\\site-packages\\ipykernel\\ipkernel.py:287: DeprecationWarning: `should_run_async` will not call `transform_cell` automatically in the future. Please pass the result to `transformed_cell` argument and any exception that happen during thetransform in `preprocessing_exc_tuple` in IPython 7.17 and above.\n",
      "  and should_run_async(code)\n"
     ]
    },
    {
     "name": "stdout",
     "output_type": "stream",
     "text": [
      "The number of colum(s): 15.\n",
      "The column(s) is/are : created_at,source,original_text,polarity,subjectivity,lang,favorite_count,retweet_count,original_author,followers_count,friends_count,possibly_sensitive,hashtags and place \n",
      "The total number of rows: 6532 \n",
      "The number of duplicate tweets: 4237 \n",
      "The number of columns having missing value(s): 2 \n",
      "The number of rows with missing value(s) in [possibly_sensitive]: 5014\n",
      "The number of rows with missing value(s) in [place]: 2444 \n",
      "The total number of missing value(s): 7458\n"
     ]
    }
   ],
   "source": [
    "get_df_info(tweet_df)\n",
    "cleaned_tweet, data_for_model = get_cleaned_tweet_and_data_for_model(tweet_df)"
   ]
  },
  {
   "cell_type": "code",
   "execution_count": null,
   "id": "e2e0c7aa",
   "metadata": {},
   "outputs": [],
   "source": [
    "data_for_model"
   ]
  },
  {
   "cell_type": "code",
   "execution_count": 9,
   "id": "c2c38999",
   "metadata": {},
   "outputs": [
    {
     "name": "stderr",
     "output_type": "stream",
     "text": [
      "C:\\ProgramData\\Anaconda3\\lib\\site-packages\\ipykernel\\ipkernel.py:287: DeprecationWarning: `should_run_async` will not call `transform_cell` automatically in the future. Please pass the result to `transformed_cell` argument and any exception that happen during thetransform in `preprocessing_exc_tuple` in IPython 7.17 and above.\n",
      "  and should_run_async(code)\n"
     ]
    }
   ],
   "source": [
    "class TweetDFTopicModeling:\n",
    "    \"\"\"\n",
    "    this function will create topic modeling model parsed data for modeling\n",
    "    \n",
    "    Return\n",
    "    ------\n",
    "    dict\n",
    "    \"\"\"\n",
    "    \n",
    "    def __init__(self, df):\n",
    "        self.data = df\n",
    "        \n",
    "    def prepare_data(self)->None:\n",
    "        \"\"\"\n",
    "        this function will prepare data for creating topic modeling model \n",
    "        Return\n",
    "        ------\n",
    "        None\n",
    "        \"\"\"\n",
    "        \n",
    "        data = self.data\n",
    "        #Converting tweets to list of words For feature engineering\n",
    "        sentence_list = [remove_stopwords(tweet) for tweet in data['cleaned_tweet']]\n",
    "        word_list = [sent.split() for sent in sentence_list]\n",
    "\n",
    "        #Create dictionary which contains Id and word \n",
    "        word_to_id = corpora.Dictionary(word_list)\n",
    "        corpus_1= [word_to_id.doc2bow(tweet) for tweet in word_list]\n",
    "        data = {'word_list':word_list, 'word_to_id':word_to_id, 'corpus':corpus_1 }\n",
    "        \n",
    "        self.data = data\n",
    "        \n",
    "    def creat_topic_model (self)->dict:\n",
    "        \"\"\"\n",
    "        this function will create topic modeling model \n",
    "\n",
    "        Return\n",
    "        ------\n",
    "        dict\n",
    "        \"\"\"\n",
    "        data = self.data\n",
    "        corpus = data['corpus']\n",
    "        word_to_id = data['word_to_id']\n",
    "        lda_model = ldamodel.LdaModel(corpus,\n",
    "                                           id2word=word_to_id,\n",
    "                                           num_topics=3, \n",
    "                                           random_state=100,\n",
    "                                           update_every=1,\n",
    "                                           chunksize=50,\n",
    "                                           passes=100,\n",
    "                                           alpha='auto',\n",
    "                                           per_word_topics=True)\n",
    "        self.model = lda_model\n",
    "        return lda_model\n",
    "    \n",
    "    def viz_lda_topics(self):\n",
    "        \n",
    "        data = self.data\n",
    "        lda_model = self.model\n",
    "        corpus = data['corpus']\n",
    "        word_to_id = data['word_to_id']\n",
    "        # Visualize the topics\n",
    "        pyLDAvis.enable_notebook()\n",
    "\n",
    "        LDAvis_prepared = gensimvis.prepare(lda_model, corpus, word_to_id)\n",
    "        return LDAvis_prepared"
   ]
  },
  {
   "cell_type": "code",
   "execution_count": 10,
   "id": "6b6c34a3",
   "metadata": {},
   "outputs": [
    {
     "name": "stderr",
     "output_type": "stream",
     "text": [
      "C:\\ProgramData\\Anaconda3\\lib\\site-packages\\ipykernel\\ipkernel.py:287: DeprecationWarning: `should_run_async` will not call `transform_cell` automatically in the future. Please pass the result to `transformed_cell` argument and any exception that happen during thetransform in `preprocessing_exc_tuple` in IPython 7.17 and above.\n",
      "  and should_run_async(code)\n"
     ]
    },
    {
     "ename": "KeyboardInterrupt",
     "evalue": "",
     "output_type": "error",
     "traceback": [
      "\u001b[1;31m---------------------------------------------------------------------------\u001b[0m",
      "\u001b[1;31mKeyboardInterrupt\u001b[0m                         Traceback (most recent call last)",
      "\u001b[1;32m<ipython-input-10-ddc4adcc6faf>\u001b[0m in \u001b[0;36m<module>\u001b[1;34m\u001b[0m\n\u001b[0;32m      1\u001b[0m \u001b[0mb\u001b[0m \u001b[1;33m=\u001b[0m \u001b[0mTweetDFTopicModeling\u001b[0m\u001b[1;33m(\u001b[0m\u001b[0mdata_for_model\u001b[0m\u001b[1;33m)\u001b[0m\u001b[1;33m\u001b[0m\u001b[1;33m\u001b[0m\u001b[0m\n\u001b[0;32m      2\u001b[0m \u001b[0mb\u001b[0m\u001b[1;33m.\u001b[0m\u001b[0mprepare_data\u001b[0m\u001b[1;33m(\u001b[0m\u001b[1;33m)\u001b[0m\u001b[1;33m\u001b[0m\u001b[1;33m\u001b[0m\u001b[0m\n\u001b[1;32m----> 3\u001b[1;33m \u001b[0mlda\u001b[0m \u001b[1;33m=\u001b[0m \u001b[0mb\u001b[0m\u001b[1;33m.\u001b[0m\u001b[0mcreat_topic_model\u001b[0m\u001b[1;33m(\u001b[0m\u001b[1;33m)\u001b[0m\u001b[1;33m\u001b[0m\u001b[1;33m\u001b[0m\u001b[0m\n\u001b[0m",
      "\u001b[1;32m<ipython-input-9-6ebd856633a5>\u001b[0m in \u001b[0;36mcreat_topic_model\u001b[1;34m(self)\u001b[0m\n\u001b[0;32m     42\u001b[0m         \u001b[0mcorpus\u001b[0m \u001b[1;33m=\u001b[0m \u001b[0mdata\u001b[0m\u001b[1;33m[\u001b[0m\u001b[1;34m'corpus'\u001b[0m\u001b[1;33m]\u001b[0m\u001b[1;33m\u001b[0m\u001b[1;33m\u001b[0m\u001b[0m\n\u001b[0;32m     43\u001b[0m         \u001b[0mword_to_id\u001b[0m \u001b[1;33m=\u001b[0m \u001b[0mdata\u001b[0m\u001b[1;33m[\u001b[0m\u001b[1;34m'word_to_id'\u001b[0m\u001b[1;33m]\u001b[0m\u001b[1;33m\u001b[0m\u001b[1;33m\u001b[0m\u001b[0m\n\u001b[1;32m---> 44\u001b[1;33m         lda_model = ldamodel.LdaModel(corpus,\n\u001b[0m\u001b[0;32m     45\u001b[0m                                            \u001b[0mid2word\u001b[0m\u001b[1;33m=\u001b[0m\u001b[0mword_to_id\u001b[0m\u001b[1;33m,\u001b[0m\u001b[1;33m\u001b[0m\u001b[1;33m\u001b[0m\u001b[0m\n\u001b[0;32m     46\u001b[0m                                            \u001b[0mnum_topics\u001b[0m\u001b[1;33m=\u001b[0m\u001b[1;36m3\u001b[0m\u001b[1;33m,\u001b[0m\u001b[1;33m\u001b[0m\u001b[1;33m\u001b[0m\u001b[0m\n",
      "\u001b[1;32mC:\\ProgramData\\Anaconda3\\lib\\site-packages\\gensim\\models\\ldamodel.py\u001b[0m in \u001b[0;36m__init__\u001b[1;34m(self, corpus, num_topics, id2word, distributed, chunksize, passes, update_every, alpha, eta, decay, offset, eval_every, iterations, gamma_threshold, minimum_probability, random_state, ns_conf, minimum_phi_value, per_word_topics, callbacks, dtype)\u001b[0m\n\u001b[0;32m    521\u001b[0m             \u001b[0muse_numpy\u001b[0m \u001b[1;33m=\u001b[0m \u001b[0mself\u001b[0m\u001b[1;33m.\u001b[0m\u001b[0mdispatcher\u001b[0m \u001b[1;32mis\u001b[0m \u001b[1;32mnot\u001b[0m \u001b[1;32mNone\u001b[0m\u001b[1;33m\u001b[0m\u001b[1;33m\u001b[0m\u001b[0m\n\u001b[0;32m    522\u001b[0m             \u001b[0mstart\u001b[0m \u001b[1;33m=\u001b[0m \u001b[0mtime\u001b[0m\u001b[1;33m.\u001b[0m\u001b[0mtime\u001b[0m\u001b[1;33m(\u001b[0m\u001b[1;33m)\u001b[0m\u001b[1;33m\u001b[0m\u001b[1;33m\u001b[0m\u001b[0m\n\u001b[1;32m--> 523\u001b[1;33m             \u001b[0mself\u001b[0m\u001b[1;33m.\u001b[0m\u001b[0mupdate\u001b[0m\u001b[1;33m(\u001b[0m\u001b[0mcorpus\u001b[0m\u001b[1;33m,\u001b[0m \u001b[0mchunks_as_numpy\u001b[0m\u001b[1;33m=\u001b[0m\u001b[0muse_numpy\u001b[0m\u001b[1;33m)\u001b[0m\u001b[1;33m\u001b[0m\u001b[1;33m\u001b[0m\u001b[0m\n\u001b[0m\u001b[0;32m    524\u001b[0m             self.add_lifecycle_event(\n\u001b[0;32m    525\u001b[0m                 \u001b[1;34m\"created\"\u001b[0m\u001b[1;33m,\u001b[0m\u001b[1;33m\u001b[0m\u001b[1;33m\u001b[0m\u001b[0m\n",
      "\u001b[1;32mC:\\ProgramData\\Anaconda3\\lib\\site-packages\\gensim\\models\\ldamodel.py\u001b[0m in \u001b[0;36mupdate\u001b[1;34m(self, corpus, chunksize, decay, offset, passes, update_every, eval_every, iterations, gamma_threshold, chunks_as_numpy)\u001b[0m\n\u001b[0;32m    992\u001b[0m                         \u001b[0mpass_\u001b[0m\u001b[1;33m,\u001b[0m \u001b[0mchunk_no\u001b[0m \u001b[1;33m*\u001b[0m \u001b[0mchunksize\u001b[0m \u001b[1;33m+\u001b[0m \u001b[0mlen\u001b[0m\u001b[1;33m(\u001b[0m\u001b[0mchunk\u001b[0m\u001b[1;33m)\u001b[0m\u001b[1;33m,\u001b[0m \u001b[0mlencorpus\u001b[0m\u001b[1;33m\u001b[0m\u001b[1;33m\u001b[0m\u001b[0m\n\u001b[0;32m    993\u001b[0m                     )\n\u001b[1;32m--> 994\u001b[1;33m                     \u001b[0mgammat\u001b[0m \u001b[1;33m=\u001b[0m \u001b[0mself\u001b[0m\u001b[1;33m.\u001b[0m\u001b[0mdo_estep\u001b[0m\u001b[1;33m(\u001b[0m\u001b[0mchunk\u001b[0m\u001b[1;33m,\u001b[0m \u001b[0mother\u001b[0m\u001b[1;33m)\u001b[0m\u001b[1;33m\u001b[0m\u001b[1;33m\u001b[0m\u001b[0m\n\u001b[0m\u001b[0;32m    995\u001b[0m \u001b[1;33m\u001b[0m\u001b[0m\n\u001b[0;32m    996\u001b[0m                     \u001b[1;32mif\u001b[0m \u001b[0mself\u001b[0m\u001b[1;33m.\u001b[0m\u001b[0moptimize_alpha\u001b[0m\u001b[1;33m:\u001b[0m\u001b[1;33m\u001b[0m\u001b[1;33m\u001b[0m\u001b[0m\n",
      "\u001b[1;32mC:\\ProgramData\\Anaconda3\\lib\\site-packages\\gensim\\models\\ldamodel.py\u001b[0m in \u001b[0;36mdo_estep\u001b[1;34m(self, chunk, state)\u001b[0m\n\u001b[0;32m    754\u001b[0m         \u001b[1;32mif\u001b[0m \u001b[0mstate\u001b[0m \u001b[1;32mis\u001b[0m \u001b[1;32mNone\u001b[0m\u001b[1;33m:\u001b[0m\u001b[1;33m\u001b[0m\u001b[1;33m\u001b[0m\u001b[0m\n\u001b[0;32m    755\u001b[0m             \u001b[0mstate\u001b[0m \u001b[1;33m=\u001b[0m \u001b[0mself\u001b[0m\u001b[1;33m.\u001b[0m\u001b[0mstate\u001b[0m\u001b[1;33m\u001b[0m\u001b[1;33m\u001b[0m\u001b[0m\n\u001b[1;32m--> 756\u001b[1;33m         \u001b[0mgamma\u001b[0m\u001b[1;33m,\u001b[0m \u001b[0msstats\u001b[0m \u001b[1;33m=\u001b[0m \u001b[0mself\u001b[0m\u001b[1;33m.\u001b[0m\u001b[0minference\u001b[0m\u001b[1;33m(\u001b[0m\u001b[0mchunk\u001b[0m\u001b[1;33m,\u001b[0m \u001b[0mcollect_sstats\u001b[0m\u001b[1;33m=\u001b[0m\u001b[1;32mTrue\u001b[0m\u001b[1;33m)\u001b[0m\u001b[1;33m\u001b[0m\u001b[1;33m\u001b[0m\u001b[0m\n\u001b[0m\u001b[0;32m    757\u001b[0m         \u001b[0mstate\u001b[0m\u001b[1;33m.\u001b[0m\u001b[0msstats\u001b[0m \u001b[1;33m+=\u001b[0m \u001b[0msstats\u001b[0m\u001b[1;33m\u001b[0m\u001b[1;33m\u001b[0m\u001b[0m\n\u001b[0;32m    758\u001b[0m         \u001b[0mstate\u001b[0m\u001b[1;33m.\u001b[0m\u001b[0mnumdocs\u001b[0m \u001b[1;33m+=\u001b[0m \u001b[0mgamma\u001b[0m\u001b[1;33m.\u001b[0m\u001b[0mshape\u001b[0m\u001b[1;33m[\u001b[0m\u001b[1;36m0\u001b[0m\u001b[1;33m]\u001b[0m  \u001b[1;31m# avoids calling len(chunk) on a generator\u001b[0m\u001b[1;33m\u001b[0m\u001b[1;33m\u001b[0m\u001b[0m\n",
      "\u001b[1;32mC:\\ProgramData\\Anaconda3\\lib\\site-packages\\gensim\\models\\ldamodel.py\u001b[0m in \u001b[0;36minference\u001b[1;34m(self, chunk, collect_sstats)\u001b[0m\n\u001b[0;32m    719\u001b[0m                 \u001b[1;31m# Contribution of document d to the expected sufficient\u001b[0m\u001b[1;33m\u001b[0m\u001b[1;33m\u001b[0m\u001b[1;33m\u001b[0m\u001b[0m\n\u001b[0;32m    720\u001b[0m                 \u001b[1;31m# statistics for the M step.\u001b[0m\u001b[1;33m\u001b[0m\u001b[1;33m\u001b[0m\u001b[1;33m\u001b[0m\u001b[0m\n\u001b[1;32m--> 721\u001b[1;33m                 \u001b[0msstats\u001b[0m\u001b[1;33m[\u001b[0m\u001b[1;33m:\u001b[0m\u001b[1;33m,\u001b[0m \u001b[0mids\u001b[0m\u001b[1;33m]\u001b[0m \u001b[1;33m+=\u001b[0m \u001b[0mnp\u001b[0m\u001b[1;33m.\u001b[0m\u001b[0mouter\u001b[0m\u001b[1;33m(\u001b[0m\u001b[0mexpElogthetad\u001b[0m\u001b[1;33m.\u001b[0m\u001b[0mT\u001b[0m\u001b[1;33m,\u001b[0m \u001b[0mcts\u001b[0m \u001b[1;33m/\u001b[0m \u001b[0mphinorm\u001b[0m\u001b[1;33m)\u001b[0m\u001b[1;33m\u001b[0m\u001b[1;33m\u001b[0m\u001b[0m\n\u001b[0m\u001b[0;32m    722\u001b[0m \u001b[1;33m\u001b[0m\u001b[0m\n\u001b[0;32m    723\u001b[0m         \u001b[1;32mif\u001b[0m \u001b[0mlen\u001b[0m\u001b[1;33m(\u001b[0m\u001b[0mchunk\u001b[0m\u001b[1;33m)\u001b[0m \u001b[1;33m>\u001b[0m \u001b[1;36m1\u001b[0m\u001b[1;33m:\u001b[0m\u001b[1;33m\u001b[0m\u001b[1;33m\u001b[0m\u001b[0m\n",
      "\u001b[1;31mKeyboardInterrupt\u001b[0m: "
     ]
    }
   ],
   "source": [
    "b = TweetDFTopicModeling(data_for_model)\n",
    "b.prepare_data()\n",
    "lda = b.creat_topic_model()"
   ]
  },
  {
   "cell_type": "code",
   "execution_count": null,
   "id": "dbeab384",
   "metadata": {},
   "outputs": [],
   "source": [
    "u"
   ]
  },
  {
   "cell_type": "code",
   "execution_count": null,
   "id": "c02810ce",
   "metadata": {},
   "outputs": [],
   "source": [
    "viz = b.viz_lda_topics()"
   ]
  },
  {
   "cell_type": "code",
   "execution_count": null,
   "id": "f320617d",
   "metadata": {},
   "outputs": [],
   "source": [
    "viz"
   ]
  },
  {
   "cell_type": "code",
   "execution_count": null,
   "id": "8a063e03",
   "metadata": {},
   "outputs": [],
   "source": [
    "lda.show_topics(formatted=False)"
   ]
  },
  {
   "cell_type": "markdown",
   "id": "b8ee0ce0",
   "metadata": {},
   "source": [
    "Creating a class and methods to create and save vizsualization"
   ]
  },
  {
   "cell_type": "code",
   "execution_count": 126,
   "id": "01b72c8d",
   "metadata": {},
   "outputs": [
    {
     "name": "stderr",
     "output_type": "stream",
     "text": [
      "C:\\ProgramData\\Anaconda3\\lib\\site-packages\\ipykernel\\ipkernel.py:287: DeprecationWarning: `should_run_async` will not call `transform_cell` automatically in the future. Please pass the result to `transformed_cell` argument and any exception that happen during thetransform in `preprocessing_exc_tuple` in IPython 7.17 and above.\n",
      "  and should_run_async(code)\n"
     ]
    }
   ],
   "source": [
    "class TweetDfVisualization:\n",
    "    \n",
    "    def __init__(self, processedDf):\n",
    "        self.df = processedDf\n",
    "        \n",
    "    \n",
    "    def create_wordcloud(self):\n",
    "        # Displays a figure of the most used words\n",
    "        plt.figure(figsize=(20, 10))\n",
    "        plt.imshow(WordCloud(width=1000,height=600,stopwords=STOPWORDS).generate(' '.join(self.df.cleaned_tweet.values)))\n",
    "        plt.axis('off')\n",
    "        plt.title('Most Frequent Words In Tweets',fontsize=16)\n",
    "        plt.savefig('wordcloud.png')\n",
    "        plt.show()\n",
    "\n",
    "    def create_viz(self):\n",
    "        red='#FF5C5C'\n",
    "        dark_green = '#00A300'\n",
    "        yellow = '#FFC55C'\n",
    "        blue = '#7EC8E3'\n",
    "        green = '#00D100'\n",
    "        plt.rcParams['axes.labelsize'] = 20\n",
    "        #plt.rcParams['axes.titlesize'] = 16\n",
    "        \n",
    "        category_color_dict = {'very negative':red, 'negative':yellow, 'neutral':blue, 'positive':green, 'very positive':dark_green}\n",
    "        fig, axes = plt.subplots(2,2, figsize=(20, 20))\n",
    "        plt.rcParams.update({'axes.titlesize': 'Large'})\n",
    "        \n",
    "        axes[0,0].tick_params(axis='x', labelsize=16)\n",
    "        axes[0,0].tick_params(axis='y', labelsize=16)\n",
    "        \n",
    "        axes[0,1].tick_params(axis='x', labelsize=16)\n",
    "        axes[0,1].tick_params(axis='y', labelsize=16)\n",
    "        axes[0,1].set_title('POLARITY COUNT', fontsize=22)\n",
    "        \n",
    "        axes[1,0].tick_params(axis='x', labelsize=16)\n",
    "        axes[1,0].tick_params(axis='y', labelsize=16)\n",
    "        axes[1,0].set_title('POLARITY WITH SUBJECTIVITY', fontsize=22)\n",
    "        \n",
    "        axes[1,1].tick_params(axis='x', labelsize=16)\n",
    "        axes[1,1].tick_params(axis='y', labelsize=16)\n",
    "        axes[1,1].set_title('SUBJECTIVITY COUNT', fontsize=22)\n",
    "        \n",
    "        temp_select_df = self.df['classified_polarity'].value_counts(sort=False)\n",
    "        explode = (0.4, 0.4, 0.4, 0.4, 0.4)\n",
    "        colors= [category_color_dict[i] for i in temp_select_df.index]\n",
    "\n",
    "        temp_select_df.plot.pie(ax=axes[0,0] ,ylabel='', autopct='%1.1f%%',\n",
    "                 shadow=True, startangle=90, explode = explode, colors=colors, fontsize=16)\n",
    "        \n",
    "\n",
    "        sns.countplot(ax=axes[1,0], data=self.df, x='classified_polarity', hue='classified_subjectivity', palette=\"ch:1\")\n",
    "        sns.set_context('paper')\n",
    "        sns.set_style('dark')\n",
    "        axes[1,0].set(xlabel='Polarity', ylabel='Count')\n",
    "        axes[1,0].legend(title='Subjectivity', loc='best', fontsize=14, title_fontsize=16)\n",
    "        plt.subplots_adjust(top = 0.96, bottom=0.05, hspace=0.3, wspace=0.4)\n",
    "        \n",
    "\n",
    "        colors= [category_color_dict[i] for i in temp_select_df.index]\n",
    "        temp_select_df = self.df['classified_polarity'].value_counts(sort=False)\n",
    "        temp_select_df.plot.bar(ax=axes[0,1] ,xlabel='Polarity', ylabel='Count', color=colors)\n",
    "\n",
    "        sns.countplot(ax=axes[1,1], data=self.df, x='classified_subjectivity', palette=\"ch:1\")\n",
    "        axes[1,1].set(xlabel='Count', ylabel='Polarity')\n",
    "\n",
    "        #plt.show()\n",
    "\n",
    "        plt.savefig('viz.png')"
   ]
  },
  {
   "cell_type": "markdown",
   "id": "5ffae0c4",
   "metadata": {},
   "source": [
    "Implementing <b>TweetDfVisualization</b> to create visualization"
   ]
  },
  {
   "cell_type": "code",
   "execution_count": 127,
   "id": "99332642",
   "metadata": {},
   "outputs": [
    {
     "name": "stderr",
     "output_type": "stream",
     "text": [
      "C:\\ProgramData\\Anaconda3\\lib\\site-packages\\ipykernel\\ipkernel.py:287: DeprecationWarning: `should_run_async` will not call `transform_cell` automatically in the future. Please pass the result to `transformed_cell` argument and any exception that happen during thetransform in `preprocessing_exc_tuple` in IPython 7.17 and above.\n",
      "  and should_run_async(code)\n"
     ]
    }
   ],
   "source": [
    "viz = TweetDfVisualization(cleaned_tweet)"
   ]
  },
  {
   "cell_type": "code",
   "execution_count": null,
   "id": "01a7a455",
   "metadata": {},
   "outputs": [],
   "source": [
    "viz.create_wordcloud()"
   ]
  },
  {
   "cell_type": "code",
   "execution_count": 128,
   "id": "85095474",
   "metadata": {},
   "outputs": [
    {
     "name": "stderr",
     "output_type": "stream",
     "text": [
      "C:\\ProgramData\\Anaconda3\\lib\\site-packages\\ipykernel\\ipkernel.py:287: DeprecationWarning: `should_run_async` will not call `transform_cell` automatically in the future. Please pass the result to `transformed_cell` argument and any exception that happen during thetransform in `preprocessing_exc_tuple` in IPython 7.17 and above.\n",
      "  and should_run_async(code)\n"
     ]
    },
    {
     "data": {
      "image/png": "[encoded data removed]",
      "text/plain": [
       "<Figure size 1440x1440 with 4 Axes>"
      ]
     },
     "metadata": {},
     "output_type": "display_data"
    }
   ],
   "source": [
    "viz.create_viz()"
   ]
  },
  {
   "cell_type": "code",
   "execution_count": null,
   "id": "0eef703c",
   "metadata": {},
   "outputs": [],
   "source": [
    "class TweetDFTrain:\n",
    "    \"\"\"\n",
    "    this function will prepare parsed data for modeling\n",
    "    \n",
    "    Return\n",
    "    ------\n",
    "    dataframe\n",
    "    \"\"\"\n",
    "    \n",
    "    def __init__(self, processedDf, max_n_grams):\n",
    "        self.processedDf = processedDf\n",
    "        self.max_n_grams = max_n_grams\n",
    "        \n",
    "    def vectorize_data(self)->None:\n",
    "        \"\"\"\n",
    "        this function will vectorize data for training the model\n",
    "\n",
    "        Return\n",
    "        ------\n",
    "        None\n",
    "        \"\"\"\n",
    "        max_n_grams = self.max_n_grams\n",
    "        data = {str(i+1)+'_gram':'' for i in range(max_n_grams)}\n",
    "        \n",
    "        for i in range(max_n_grams):\n",
    "            vectorizer = CountVectorizer(ngram_range=(1,i+1))\n",
    "            vectorizer.fit(self.processedDf['cleaned_tweet'].values)\n",
    "            data[str(i+1)+'_gram'] = vectorizer.transform(self.processedDf['cleaned_tweet'].values)\n",
    "            \n",
    "        self.data = data\n",
    "        \n",
    "    def tf_id_data(self)->None:\n",
    "        \"\"\"\n",
    "        this function will compute the tf-id of data for training the model\n",
    "\n",
    "        Return\n",
    "        ------\n",
    "        None\n",
    "        \"\"\"\n",
    "        data_1 = self.data\n",
    "        data = {}\n",
    "        vectorized_data_tf_id = {}\n",
    "        for key in data_1.keys():\n",
    "            transformer = TfidfTransformer()\n",
    "            transformer.fit(data_1[key])\n",
    "            data[key+'_tf_id'] = transformer.transform(data_1[key])\n",
    "        data_1.update(data)  \n",
    "        self.data = data_1\n",
    "        \n",
    "    def train_model(self)->dict:\n",
    "        \"\"\"\n",
    "        this function will train and select the optimized model for each of the parsed proceeded variant of data\n",
    "\n",
    "        Return\n",
    "        ------\n",
    "        dictionary\n",
    "        \"\"\"\n",
    "        data = self.data\n",
    "        y = self.processedDf['label']\n",
    "        models = {}\n",
    "        for key in data.keys():\n",
    "            X=data[key]\n",
    "            X_train, X_valid, y_train, y_valid = train_test_split(X, y, train_size=0.75, stratify=y)\n",
    "            \n",
    "            model = SGDClassifier()\n",
    "            distributions = dict(\n",
    "                loss=['hinge', 'log', 'modified_huber', 'squared_hinge', 'perceptron'],\n",
    "                learning_rate=['optimal', 'invscaling', 'adaptive'],\n",
    "                eta0=uniform(loc=1e-7, scale=1e-2),\n",
    "                penalty=['l1', 'l2', 'elasticnet'],\n",
    "                alpha=uniform(loc=1e-6, scale=1e-4)\n",
    "            )\n",
    "            random_search_cv = RandomizedSearchCV(\n",
    "                estimator=model,\n",
    "                param_distributions=distributions,\n",
    "                cv=5,\n",
    "                n_iter=50\n",
    "            )\n",
    "            random_search_cv.fit(X_train, y_train)\n",
    "            model = random_search_cv.best_estimator_\n",
    "            model.fit(X_train, y_train)\n",
    "            model_data = {'X_train':X_train, 'X_valid':X_valid, 'y_train':y_train, 'y_valid':y_valid, 'model':model}\n",
    "            models[key+'_model'] = model_data\n",
    "        return models   "
   ]
  },
  {
   "cell_type": "code",
   "execution_count": null,
   "id": "e8f84e65",
   "metadata": {},
   "outputs": [],
   "source": [
    "def get_trained_models(df:pd.DataFrame,max_n_grams:int)->dict:\n",
    "    \"\"\"\n",
    "    this function will vectorize, compute tf-id and train the models. It takes the processed data as a first argument \n",
    "    and maximum n-grams as a secon argument\n",
    "\n",
    "    Return\n",
    "    ------\n",
    "    dictionary\n",
    "    \"\"\"\n",
    "    models = TweetDFTrain(df,max_n_grams)\n",
    "    models.vectorize_data()\n",
    "    models.tf_id_data()\n",
    "    trained_models = models.train_model()\n",
    "    return trained_models"
   ]
  },
  {
   "cell_type": "code",
   "execution_count": null,
   "id": "6a39d7b8",
   "metadata": {},
   "outputs": [],
   "source": [
    "class TweetDFModelEvaluate:\n",
    "    \"\"\"\n",
    "    this function will evaluate and select the best performing model and optimize its performance\n",
    "    \n",
    "    Return\n",
    "    ------\n",
    "    dict\n",
    "    \"\"\"\n",
    "    \n",
    "    def __init__ (self, models):\n",
    "        self.models = models\n",
    "        \n",
    "    def evaluate_model(self):\n",
    "        \"\"\"\n",
    "        this function will evaluate the trained models\n",
    "\n",
    "        Return\n",
    "        ------\n",
    "        None\n",
    "        \"\"\"\n",
    "        models = self.models\n",
    "        for key in models.keys():\n",
    "            X_train = models[key]['X_train']\n",
    "            X_valid = models[key]['X_valid']\n",
    "            y_train = models[key]['y_train']\n",
    "            y_valid = models[key]['y_valid']\n",
    "            model = models[key]['model']\n",
    "            train_score = model.score(X_train, y_train)\n",
    "            valid_score = model.score(X_valid, y_valid)\n",
    "            models[key]['train_score'] = train_score\n",
    "            models[key]['valid_score'] = valid_score\n",
    "            \n",
    "        self.models =  models\n",
    "        \n",
    "    def select_model(self):\n",
    "        \"\"\"\n",
    "        this function will select the best performing trained model\n",
    "\n",
    "        Return\n",
    "        ------\n",
    "        dict\n",
    "        \"\"\"\n",
    "        models = self.models\n",
    "        max_valid_score = 0\n",
    "        selected_model = ''\n",
    "        num_of_models = len(models.keys())\n",
    "        print('The number of trained models are {}'.format(num_of_models))\n",
    "        for key in models.keys():\n",
    "            train_score = models[key]['train_score']\n",
    "            valid_score = models[key]['valid_score']\n",
    "            print('\\nmodel name : {}\\nTraining Score : {}\\nValidation Score : {}'.format(key, train_score, valid_score))\n",
    "\n",
    "            if models[key]['valid_score'] > max_valid_score:\n",
    "                max_valid_score = models[key]['valid_score']\n",
    "                selected_model = {'name': key, 'train_score':train_score, 'valid_score':valid_score, 'model': models[key]['model']}\n",
    "\n",
    "        print('\\nThe best performing and selected model is {}'.format(selected_model['name']))\n",
    "        self.models = selected_model\n",
    "        return selected_model"
   ]
  },
  {
   "cell_type": "code",
   "execution_count": null,
   "id": "828a5d7f",
   "metadata": {},
   "outputs": [],
   "source": [
    "models = get_trained_models(data_for_model, 3)"
   ]
  },
  {
   "cell_type": "code",
   "execution_count": null,
   "id": "365aa517",
   "metadata": {},
   "outputs": [],
   "source": [
    "a = TweetDFModelEvaluate(models)\n",
    "a.evaluate_model()\n",
    "a.select_model()"
   ]
  },
  {
   "cell_type": "code",
   "execution_count": null,
   "id": "3b073397",
   "metadata": {},
   "outputs": [],
   "source": [
    "models['1_gram_model'].keys()"
   ]
  },
  {
   "cell_type": "code",
   "execution_count": null,
   "id": "90e6b6dc",
   "metadata": {},
   "outputs": [],
   "source": [
    "SGDClassifier.score?"
   ]
  },
  {
   "cell_type": "code",
   "execution_count": null,
   "id": "d3519b48",
   "metadata": {},
   "outputs": [],
   "source": [
    "SGDClassifier().validate"
   ]
  }
 ],
 "metadata": {
  "kernelspec": {
   "display_name": "Python 3",
   "language": "python",
   "name": "python3"
  },
  "language_info": {
   "codemirror_mode": {
    "name": "ipython",
    "version": 3
   },
   "file_extension": ".py",
   "mimetype": "text/x-python",
   "name": "python",
   "nbconvert_exporter": "python",
   "pygments_lexer": "ipython3",
   "version": "3.8.8"
  }
 },
 "nbformat": 4,
 "nbformat_minor": 5
}
